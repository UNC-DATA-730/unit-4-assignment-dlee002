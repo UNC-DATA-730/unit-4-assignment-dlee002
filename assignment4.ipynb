{
 "cells": [
  {
   "cell_type": "markdown",
   "id": "df0d234f-1e1a-4495-8208-e177e7f527aa",
   "metadata": {},
   "source": [
    "Complete the exercises below For **Assignment #4**.\n",
    "\n",
    "Use **Markdown** cells for the non-code answers."
   ]
  },
  {
   "cell_type": "markdown",
   "id": "67f720a0-2ead-44f5-bc11-8cbefda7b7d4",
   "metadata": {},
   "source": [
    "In this assignment we will work with the data underlying the *FiveThirtyEight* article [\"Higher Rates Of Hate Crimes Are Tied To Income Inequality\"](https://fivethirtyeight.com/features/higher-rates-of-hate-crimes-are-tied-to-income-inequality/)."
   ]
  },
  {
   "cell_type": "markdown",
   "id": "da3788bf-60c0-4b04-a09e-29bb08002d83",
   "metadata": {},
   "source": [
    "Load the `tidymodels`, `readr`, and `moderndive` packages in the cell below."
   ]
  },
  {
   "cell_type": "code",
   "execution_count": 2,
   "id": "c363d814-19a6-4173-899e-c54ada1860d2",
   "metadata": {
    "tags": []
   },
   "outputs": [
    {
     "name": "stderr",
     "output_type": "stream",
     "text": [
      "Warning message:\n",
      "“Failed to locate timezone database”\n",
      "── \u001b[1mAttaching packages\u001b[22m ────────────────────────────────────── tidymodels 1.1.1 ──\n",
      "\n",
      "\u001b[32m✔\u001b[39m \u001b[34mbroom       \u001b[39m 1.0.5     \u001b[32m✔\u001b[39m \u001b[34mrecipes     \u001b[39m 1.0.9\n",
      "\u001b[32m✔\u001b[39m \u001b[34mdials       \u001b[39m 1.2.0     \u001b[32m✔\u001b[39m \u001b[34mrsample     \u001b[39m 1.2.0\n",
      "\u001b[32m✔\u001b[39m \u001b[34mdplyr       \u001b[39m 1.1.4     \u001b[32m✔\u001b[39m \u001b[34mtibble      \u001b[39m 3.2.1\n",
      "\u001b[32m✔\u001b[39m \u001b[34mggplot2     \u001b[39m 3.4.4     \u001b[32m✔\u001b[39m \u001b[34mtidyr       \u001b[39m 1.3.0\n",
      "\u001b[32m✔\u001b[39m \u001b[34minfer       \u001b[39m 1.0.5     \u001b[32m✔\u001b[39m \u001b[34mtune        \u001b[39m 1.1.2\n",
      "\u001b[32m✔\u001b[39m \u001b[34mmodeldata   \u001b[39m 1.2.0     \u001b[32m✔\u001b[39m \u001b[34mworkflows   \u001b[39m 1.1.3\n",
      "\u001b[32m✔\u001b[39m \u001b[34mparsnip     \u001b[39m 1.1.1     \u001b[32m✔\u001b[39m \u001b[34mworkflowsets\u001b[39m 1.0.1\n",
      "\u001b[32m✔\u001b[39m \u001b[34mpurrr       \u001b[39m 1.0.2     \u001b[32m✔\u001b[39m \u001b[34myardstick   \u001b[39m 1.2.0\n",
      "\n",
      "── \u001b[1mConflicts\u001b[22m ───────────────────────────────────────── tidymodels_conflicts() ──\n",
      "\u001b[31m✖\u001b[39m \u001b[34mpurrr\u001b[39m::\u001b[32mdiscard()\u001b[39m masks \u001b[34mscales\u001b[39m::discard()\n",
      "\u001b[31m✖\u001b[39m \u001b[34mdplyr\u001b[39m::\u001b[32mfilter()\u001b[39m  masks \u001b[34mstats\u001b[39m::filter()\n",
      "\u001b[31m✖\u001b[39m \u001b[34mdplyr\u001b[39m::\u001b[32mlag()\u001b[39m     masks \u001b[34mstats\u001b[39m::lag()\n",
      "\u001b[31m✖\u001b[39m \u001b[34mrecipes\u001b[39m::\u001b[32mstep()\u001b[39m  masks \u001b[34mstats\u001b[39m::step()\n",
      "\u001b[34m•\u001b[39m Search for functions across packages at \u001b[32mhttps://www.tidymodels.org/find/\u001b[39m\n",
      "\n",
      "\n",
      "Attaching package: ‘readr’\n",
      "\n",
      "\n",
      "The following object is masked from ‘package:yardstick’:\n",
      "\n",
      "    spec\n",
      "\n",
      "\n",
      "The following object is masked from ‘package:scales’:\n",
      "\n",
      "    col_factor\n",
      "\n",
      "\n"
     ]
    }
   ],
   "source": [
    "library('tidymodels')\n",
    "library('readr')\n",
    "library('moderndive')\n"
   ]
  },
  {
   "cell_type": "markdown",
   "id": "c4064cbe-78bd-4549-8543-fd91ed775e6e",
   "metadata": {},
   "source": [
    "We can read the data from a **CSV file** at the following URL: [http://bit.ly/2ItxYg3](http://bit.ly/2ItxYg3).\n",
    "\n",
    "Use the `read_csv` function to read the data into our R session. Call the new table `hate_crimes`."
   ]
  },
  {
   "cell_type": "code",
   "execution_count": 6,
   "id": "94ce1201-dd72-4109-9a64-333b7286aac7",
   "metadata": {},
   "outputs": [
    {
     "name": "stderr",
     "output_type": "stream",
     "text": [
      "\u001b[1mRows: \u001b[22m\u001b[34m51\u001b[39m \u001b[1mColumns: \u001b[22m\u001b[34m9\u001b[39m\n",
      "\u001b[36m──\u001b[39m \u001b[1mColumn specification\u001b[22m \u001b[36m────────────────────────────────────────────────────────\u001b[39m\n",
      "\u001b[1mDelimiter:\u001b[22m \",\"\n",
      "\u001b[31mchr\u001b[39m (5): state, median_house_inc, trump_support, unemployment, urbanization\n",
      "\u001b[32mdbl\u001b[39m (4): share_pop_metro, hs, hate_crimes, income\n",
      "\n",
      "\u001b[36mℹ\u001b[39m Use `spec()` to retrieve the full column specification for this data.\n",
      "\u001b[36mℹ\u001b[39m Specify the column types or set `show_col_types = FALSE` to quiet this message.\n"
     ]
    },
    {
     "data": {
      "text/html": [
       "<table class=\"dataframe\">\n",
       "<caption>A spec_tbl_df: 51 × 9</caption>\n",
       "<thead>\n",
       "\t<tr><th scope=col>state</th><th scope=col>median_house_inc</th><th scope=col>share_pop_metro</th><th scope=col>hs</th><th scope=col>hate_crimes</th><th scope=col>trump_support</th><th scope=col>unemployment</th><th scope=col>urbanization</th><th scope=col>income</th></tr>\n",
       "\t<tr><th scope=col>&lt;chr&gt;</th><th scope=col>&lt;chr&gt;</th><th scope=col>&lt;dbl&gt;</th><th scope=col>&lt;dbl&gt;</th><th scope=col>&lt;dbl&gt;</th><th scope=col>&lt;chr&gt;</th><th scope=col>&lt;chr&gt;</th><th scope=col>&lt;chr&gt;</th><th scope=col>&lt;dbl&gt;</th></tr>\n",
       "</thead>\n",
       "<tbody>\n",
       "\t<tr><td>New Mexico          </td><td>low </td><td>0.69</td><td>83</td><td>0.295</td><td>low   </td><td>high</td><td>low </td><td>46686</td></tr>\n",
       "\t<tr><td>Maine               </td><td>low </td><td>0.54</td><td>90</td><td>0.616</td><td>low   </td><td>low </td><td>low </td><td>51710</td></tr>\n",
       "\t<tr><td>New York            </td><td>low </td><td>0.94</td><td>85</td><td>0.351</td><td>low   </td><td>low </td><td>high</td><td>54310</td></tr>\n",
       "\t<tr><td>Illinois            </td><td>low </td><td>0.90</td><td>86</td><td>0.195</td><td>low   </td><td>high</td><td>high</td><td>54916</td></tr>\n",
       "\t<tr><td>Delaware            </td><td>high</td><td>0.90</td><td>87</td><td>0.323</td><td>low   </td><td>low </td><td>high</td><td>57522</td></tr>\n",
       "\t<tr><td>Rhode Island        </td><td>high</td><td>1.00</td><td>85</td><td>0.095</td><td>low   </td><td>high</td><td>high</td><td>58633</td></tr>\n",
       "\t<tr><td>Oregon              </td><td>high</td><td>0.87</td><td>89</td><td>0.833</td><td>low   </td><td>high</td><td>high</td><td>58875</td></tr>\n",
       "\t<tr><td>Washington          </td><td>high</td><td>0.86</td><td>90</td><td>0.677</td><td>low   </td><td>high</td><td>high</td><td>59068</td></tr>\n",
       "\t<tr><td>California          </td><td>high</td><td>0.97</td><td>81</td><td>0.256</td><td>low   </td><td>high</td><td>high</td><td>60487</td></tr>\n",
       "\t<tr><td>Vermont             </td><td>high</td><td>0.35</td><td>91</td><td>0.324</td><td>low   </td><td>low </td><td>low </td><td>60708</td></tr>\n",
       "\t<tr><td>Colorado            </td><td>high</td><td>0.80</td><td>89</td><td>0.391</td><td>low   </td><td>low </td><td>high</td><td>60940</td></tr>\n",
       "\t<tr><td>Massachusetts       </td><td>high</td><td>0.97</td><td>89</td><td>0.631</td><td>low   </td><td>low </td><td>high</td><td>63151</td></tr>\n",
       "\t<tr><td>New Jersey          </td><td>high</td><td>1.00</td><td>87</td><td>0.078</td><td>low   </td><td>high</td><td>high</td><td>65243</td></tr>\n",
       "\t<tr><td>Virginia            </td><td>high</td><td>0.89</td><td>87</td><td>0.363</td><td>low   </td><td>low </td><td>high</td><td>66155</td></tr>\n",
       "\t<tr><td>Minnesota           </td><td>high</td><td>0.75</td><td>92</td><td>0.627</td><td>low   </td><td>low </td><td>low </td><td>67244</td></tr>\n",
       "\t<tr><td>District of Columbia</td><td>high</td><td>1.00</td><td>87</td><td>1.522</td><td>low   </td><td>high</td><td>high</td><td>68277</td></tr>\n",
       "\t<tr><td>Connecticut         </td><td>high</td><td>0.94</td><td>89</td><td>0.335</td><td>low   </td><td>high</td><td>high</td><td>70161</td></tr>\n",
       "\t<tr><td>Hawaii              </td><td>high</td><td>0.76</td><td>90</td><td>   NA</td><td>low   </td><td>low </td><td>low </td><td>71223</td></tr>\n",
       "\t<tr><td>Maryland            </td><td>high</td><td>0.97</td><td>89</td><td>0.370</td><td>low   </td><td>low </td><td>high</td><td>76165</td></tr>\n",
       "\t<tr><td>South Carolina      </td><td>low </td><td>0.79</td><td>84</td><td>0.210</td><td>medium</td><td>high</td><td>low </td><td>44929</td></tr>\n",
       "\t<tr><td>Florida             </td><td>low </td><td>0.96</td><td>85</td><td>0.188</td><td>medium</td><td>high</td><td>high</td><td>46140</td></tr>\n",
       "\t<tr><td>North Carolina      </td><td>low </td><td>0.76</td><td>84</td><td>0.244</td><td>medium</td><td>high</td><td>low </td><td>46784</td></tr>\n",
       "\t<tr><td>Arizona             </td><td>low </td><td>0.90</td><td>84</td><td>0.225</td><td>medium</td><td>high</td><td>high</td><td>49254</td></tr>\n",
       "\t<tr><td>Georgia             </td><td>low </td><td>0.82</td><td>84</td><td>0.120</td><td>medium</td><td>high</td><td>high</td><td>49555</td></tr>\n",
       "\t<tr><td>Ohio                </td><td>low </td><td>0.75</td><td>88</td><td>0.191</td><td>medium</td><td>low </td><td>low </td><td>49644</td></tr>\n",
       "\t<tr><td>Nevada              </td><td>low </td><td>0.87</td><td>84</td><td>0.142</td><td>medium</td><td>high</td><td>high</td><td>49875</td></tr>\n",
       "\t<tr><td>Michigan            </td><td>low </td><td>0.87</td><td>88</td><td>0.404</td><td>medium</td><td>low </td><td>high</td><td>52005</td></tr>\n",
       "\t<tr><td>Texas               </td><td>low </td><td>0.92</td><td>80</td><td>0.214</td><td>medium</td><td>low </td><td>high</td><td>53875</td></tr>\n",
       "\t<tr><td>Pennsylvania        </td><td>high</td><td>0.87</td><td>88</td><td>0.285</td><td>medium</td><td>high</td><td>high</td><td>55173</td></tr>\n",
       "\t<tr><td>Iowa                </td><td>high</td><td>0.60</td><td>91</td><td>0.454</td><td>medium</td><td>low </td><td>low </td><td>57810</td></tr>\n",
       "\t<tr><td>Wisconsin           </td><td>high</td><td>0.69</td><td>90</td><td>0.226</td><td>medium</td><td>low </td><td>low </td><td>58080</td></tr>\n",
       "\t<tr><td>Utah                </td><td>high</td><td>0.82</td><td>90</td><td>0.137</td><td>medium</td><td>low </td><td>high</td><td>63383</td></tr>\n",
       "\t<tr><td>Alaska              </td><td>high</td><td>0.63</td><td>91</td><td>0.144</td><td>medium</td><td>high</td><td>low </td><td>67629</td></tr>\n",
       "\t<tr><td>New Hampshire       </td><td>high</td><td>0.63</td><td>91</td><td>0.152</td><td>medium</td><td>low </td><td>low </td><td>73397</td></tr>\n",
       "\t<tr><td>Mississippi         </td><td>low </td><td>0.45</td><td>80</td><td>0.067</td><td>high  </td><td>high</td><td>low </td><td>35521</td></tr>\n",
       "\t<tr><td>West Virginia       </td><td>low </td><td>0.55</td><td>83</td><td>0.329</td><td>high  </td><td>high</td><td>low </td><td>39552</td></tr>\n",
       "\t<tr><td>Alabama             </td><td>low </td><td>0.64</td><td>82</td><td>0.126</td><td>high  </td><td>high</td><td>low </td><td>42278</td></tr>\n",
       "\t<tr><td>Louisiana           </td><td>low </td><td>0.81</td><td>82</td><td>0.110</td><td>high  </td><td>high</td><td>high</td><td>42406</td></tr>\n",
       "\t<tr><td>Kentucky            </td><td>low </td><td>0.56</td><td>82</td><td>0.324</td><td>high  </td><td>low </td><td>low </td><td>42786</td></tr>\n",
       "\t<tr><td>Tennessee           </td><td>low </td><td>0.82</td><td>83</td><td>0.200</td><td>high  </td><td>high</td><td>high</td><td>43716</td></tr>\n",
       "\t<tr><td>Arkansas            </td><td>low </td><td>0.69</td><td>82</td><td>0.069</td><td>high  </td><td>high</td><td>low </td><td>44922</td></tr>\n",
       "\t<tr><td>Oklahoma            </td><td>low </td><td>0.59</td><td>86</td><td>0.134</td><td>high  </td><td>low </td><td>low </td><td>47199</td></tr>\n",
       "\t<tr><td>Indiana             </td><td>low </td><td>0.79</td><td>87</td><td>0.247</td><td>high  </td><td>low </td><td>low </td><td>48060</td></tr>\n",
       "\t<tr><td>Montana             </td><td>low </td><td>0.34</td><td>91</td><td>0.495</td><td>high  </td><td>low </td><td>low </td><td>51102</td></tr>\n",
       "\t<tr><td>South Dakota        </td><td>low </td><td>0.51</td><td>90</td><td>   NA</td><td>high  </td><td>low </td><td>low </td><td>53053</td></tr>\n",
       "\t<tr><td>Idaho               </td><td>low </td><td>0.70</td><td>88</td><td>0.124</td><td>high  </td><td>low </td><td>low </td><td>53438</td></tr>\n",
       "\t<tr><td>Kansas              </td><td>low </td><td>0.64</td><td>90</td><td>0.105</td><td>high  </td><td>low </td><td>low </td><td>53444</td></tr>\n",
       "\t<tr><td>Wyoming             </td><td>high</td><td>0.31</td><td>92</td><td>   NA</td><td>high  </td><td>low </td><td>low </td><td>55690</td></tr>\n",
       "\t<tr><td>Missouri            </td><td>high</td><td>0.78</td><td>NA</td><td>0.185</td><td>high  </td><td>high</td><td>low </td><td>56630</td></tr>\n",
       "\t<tr><td>Nebraska            </td><td>high</td><td>0.60</td><td>NA</td><td>0.159</td><td>high  </td><td>low </td><td>low </td><td>56870</td></tr>\n",
       "\t<tr><td>North Dakota        </td><td>high</td><td>0.50</td><td>NA</td><td>   NA</td><td>high  </td><td>low </td><td>low </td><td>60730</td></tr>\n",
       "</tbody>\n",
       "</table>\n"
      ],
      "text/latex": [
       "A spec\\_tbl\\_df: 51 × 9\n",
       "\\begin{tabular}{lllllllll}\n",
       " state & median\\_house\\_inc & share\\_pop\\_metro & hs & hate\\_crimes & trump\\_support & unemployment & urbanization & income\\\\\n",
       " <chr> & <chr> & <dbl> & <dbl> & <dbl> & <chr> & <chr> & <chr> & <dbl>\\\\\n",
       "\\hline\n",
       "\t New Mexico           & low  & 0.69 & 83 & 0.295 & low    & high & low  & 46686\\\\\n",
       "\t Maine                & low  & 0.54 & 90 & 0.616 & low    & low  & low  & 51710\\\\\n",
       "\t New York             & low  & 0.94 & 85 & 0.351 & low    & low  & high & 54310\\\\\n",
       "\t Illinois             & low  & 0.90 & 86 & 0.195 & low    & high & high & 54916\\\\\n",
       "\t Delaware             & high & 0.90 & 87 & 0.323 & low    & low  & high & 57522\\\\\n",
       "\t Rhode Island         & high & 1.00 & 85 & 0.095 & low    & high & high & 58633\\\\\n",
       "\t Oregon               & high & 0.87 & 89 & 0.833 & low    & high & high & 58875\\\\\n",
       "\t Washington           & high & 0.86 & 90 & 0.677 & low    & high & high & 59068\\\\\n",
       "\t California           & high & 0.97 & 81 & 0.256 & low    & high & high & 60487\\\\\n",
       "\t Vermont              & high & 0.35 & 91 & 0.324 & low    & low  & low  & 60708\\\\\n",
       "\t Colorado             & high & 0.80 & 89 & 0.391 & low    & low  & high & 60940\\\\\n",
       "\t Massachusetts        & high & 0.97 & 89 & 0.631 & low    & low  & high & 63151\\\\\n",
       "\t New Jersey           & high & 1.00 & 87 & 0.078 & low    & high & high & 65243\\\\\n",
       "\t Virginia             & high & 0.89 & 87 & 0.363 & low    & low  & high & 66155\\\\\n",
       "\t Minnesota            & high & 0.75 & 92 & 0.627 & low    & low  & low  & 67244\\\\\n",
       "\t District of Columbia & high & 1.00 & 87 & 1.522 & low    & high & high & 68277\\\\\n",
       "\t Connecticut          & high & 0.94 & 89 & 0.335 & low    & high & high & 70161\\\\\n",
       "\t Hawaii               & high & 0.76 & 90 &    NA & low    & low  & low  & 71223\\\\\n",
       "\t Maryland             & high & 0.97 & 89 & 0.370 & low    & low  & high & 76165\\\\\n",
       "\t South Carolina       & low  & 0.79 & 84 & 0.210 & medium & high & low  & 44929\\\\\n",
       "\t Florida              & low  & 0.96 & 85 & 0.188 & medium & high & high & 46140\\\\\n",
       "\t North Carolina       & low  & 0.76 & 84 & 0.244 & medium & high & low  & 46784\\\\\n",
       "\t Arizona              & low  & 0.90 & 84 & 0.225 & medium & high & high & 49254\\\\\n",
       "\t Georgia              & low  & 0.82 & 84 & 0.120 & medium & high & high & 49555\\\\\n",
       "\t Ohio                 & low  & 0.75 & 88 & 0.191 & medium & low  & low  & 49644\\\\\n",
       "\t Nevada               & low  & 0.87 & 84 & 0.142 & medium & high & high & 49875\\\\\n",
       "\t Michigan             & low  & 0.87 & 88 & 0.404 & medium & low  & high & 52005\\\\\n",
       "\t Texas                & low  & 0.92 & 80 & 0.214 & medium & low  & high & 53875\\\\\n",
       "\t Pennsylvania         & high & 0.87 & 88 & 0.285 & medium & high & high & 55173\\\\\n",
       "\t Iowa                 & high & 0.60 & 91 & 0.454 & medium & low  & low  & 57810\\\\\n",
       "\t Wisconsin            & high & 0.69 & 90 & 0.226 & medium & low  & low  & 58080\\\\\n",
       "\t Utah                 & high & 0.82 & 90 & 0.137 & medium & low  & high & 63383\\\\\n",
       "\t Alaska               & high & 0.63 & 91 & 0.144 & medium & high & low  & 67629\\\\\n",
       "\t New Hampshire        & high & 0.63 & 91 & 0.152 & medium & low  & low  & 73397\\\\\n",
       "\t Mississippi          & low  & 0.45 & 80 & 0.067 & high   & high & low  & 35521\\\\\n",
       "\t West Virginia        & low  & 0.55 & 83 & 0.329 & high   & high & low  & 39552\\\\\n",
       "\t Alabama              & low  & 0.64 & 82 & 0.126 & high   & high & low  & 42278\\\\\n",
       "\t Louisiana            & low  & 0.81 & 82 & 0.110 & high   & high & high & 42406\\\\\n",
       "\t Kentucky             & low  & 0.56 & 82 & 0.324 & high   & low  & low  & 42786\\\\\n",
       "\t Tennessee            & low  & 0.82 & 83 & 0.200 & high   & high & high & 43716\\\\\n",
       "\t Arkansas             & low  & 0.69 & 82 & 0.069 & high   & high & low  & 44922\\\\\n",
       "\t Oklahoma             & low  & 0.59 & 86 & 0.134 & high   & low  & low  & 47199\\\\\n",
       "\t Indiana              & low  & 0.79 & 87 & 0.247 & high   & low  & low  & 48060\\\\\n",
       "\t Montana              & low  & 0.34 & 91 & 0.495 & high   & low  & low  & 51102\\\\\n",
       "\t South Dakota         & low  & 0.51 & 90 &    NA & high   & low  & low  & 53053\\\\\n",
       "\t Idaho                & low  & 0.70 & 88 & 0.124 & high   & low  & low  & 53438\\\\\n",
       "\t Kansas               & low  & 0.64 & 90 & 0.105 & high   & low  & low  & 53444\\\\\n",
       "\t Wyoming              & high & 0.31 & 92 &    NA & high   & low  & low  & 55690\\\\\n",
       "\t Missouri             & high & 0.78 & NA & 0.185 & high   & high & low  & 56630\\\\\n",
       "\t Nebraska             & high & 0.60 & NA & 0.159 & high   & low  & low  & 56870\\\\\n",
       "\t North Dakota         & high & 0.50 & NA &    NA & high   & low  & low  & 60730\\\\\n",
       "\\end{tabular}\n"
      ],
      "text/markdown": [
       "\n",
       "A spec_tbl_df: 51 × 9\n",
       "\n",
       "| state &lt;chr&gt; | median_house_inc &lt;chr&gt; | share_pop_metro &lt;dbl&gt; | hs &lt;dbl&gt; | hate_crimes &lt;dbl&gt; | trump_support &lt;chr&gt; | unemployment &lt;chr&gt; | urbanization &lt;chr&gt; | income &lt;dbl&gt; |\n",
       "|---|---|---|---|---|---|---|---|---|\n",
       "| New Mexico           | low  | 0.69 | 83 | 0.295 | low    | high | low  | 46686 |\n",
       "| Maine                | low  | 0.54 | 90 | 0.616 | low    | low  | low  | 51710 |\n",
       "| New York             | low  | 0.94 | 85 | 0.351 | low    | low  | high | 54310 |\n",
       "| Illinois             | low  | 0.90 | 86 | 0.195 | low    | high | high | 54916 |\n",
       "| Delaware             | high | 0.90 | 87 | 0.323 | low    | low  | high | 57522 |\n",
       "| Rhode Island         | high | 1.00 | 85 | 0.095 | low    | high | high | 58633 |\n",
       "| Oregon               | high | 0.87 | 89 | 0.833 | low    | high | high | 58875 |\n",
       "| Washington           | high | 0.86 | 90 | 0.677 | low    | high | high | 59068 |\n",
       "| California           | high | 0.97 | 81 | 0.256 | low    | high | high | 60487 |\n",
       "| Vermont              | high | 0.35 | 91 | 0.324 | low    | low  | low  | 60708 |\n",
       "| Colorado             | high | 0.80 | 89 | 0.391 | low    | low  | high | 60940 |\n",
       "| Massachusetts        | high | 0.97 | 89 | 0.631 | low    | low  | high | 63151 |\n",
       "| New Jersey           | high | 1.00 | 87 | 0.078 | low    | high | high | 65243 |\n",
       "| Virginia             | high | 0.89 | 87 | 0.363 | low    | low  | high | 66155 |\n",
       "| Minnesota            | high | 0.75 | 92 | 0.627 | low    | low  | low  | 67244 |\n",
       "| District of Columbia | high | 1.00 | 87 | 1.522 | low    | high | high | 68277 |\n",
       "| Connecticut          | high | 0.94 | 89 | 0.335 | low    | high | high | 70161 |\n",
       "| Hawaii               | high | 0.76 | 90 |    NA | low    | low  | low  | 71223 |\n",
       "| Maryland             | high | 0.97 | 89 | 0.370 | low    | low  | high | 76165 |\n",
       "| South Carolina       | low  | 0.79 | 84 | 0.210 | medium | high | low  | 44929 |\n",
       "| Florida              | low  | 0.96 | 85 | 0.188 | medium | high | high | 46140 |\n",
       "| North Carolina       | low  | 0.76 | 84 | 0.244 | medium | high | low  | 46784 |\n",
       "| Arizona              | low  | 0.90 | 84 | 0.225 | medium | high | high | 49254 |\n",
       "| Georgia              | low  | 0.82 | 84 | 0.120 | medium | high | high | 49555 |\n",
       "| Ohio                 | low  | 0.75 | 88 | 0.191 | medium | low  | low  | 49644 |\n",
       "| Nevada               | low  | 0.87 | 84 | 0.142 | medium | high | high | 49875 |\n",
       "| Michigan             | low  | 0.87 | 88 | 0.404 | medium | low  | high | 52005 |\n",
       "| Texas                | low  | 0.92 | 80 | 0.214 | medium | low  | high | 53875 |\n",
       "| Pennsylvania         | high | 0.87 | 88 | 0.285 | medium | high | high | 55173 |\n",
       "| Iowa                 | high | 0.60 | 91 | 0.454 | medium | low  | low  | 57810 |\n",
       "| Wisconsin            | high | 0.69 | 90 | 0.226 | medium | low  | low  | 58080 |\n",
       "| Utah                 | high | 0.82 | 90 | 0.137 | medium | low  | high | 63383 |\n",
       "| Alaska               | high | 0.63 | 91 | 0.144 | medium | high | low  | 67629 |\n",
       "| New Hampshire        | high | 0.63 | 91 | 0.152 | medium | low  | low  | 73397 |\n",
       "| Mississippi          | low  | 0.45 | 80 | 0.067 | high   | high | low  | 35521 |\n",
       "| West Virginia        | low  | 0.55 | 83 | 0.329 | high   | high | low  | 39552 |\n",
       "| Alabama              | low  | 0.64 | 82 | 0.126 | high   | high | low  | 42278 |\n",
       "| Louisiana            | low  | 0.81 | 82 | 0.110 | high   | high | high | 42406 |\n",
       "| Kentucky             | low  | 0.56 | 82 | 0.324 | high   | low  | low  | 42786 |\n",
       "| Tennessee            | low  | 0.82 | 83 | 0.200 | high   | high | high | 43716 |\n",
       "| Arkansas             | low  | 0.69 | 82 | 0.069 | high   | high | low  | 44922 |\n",
       "| Oklahoma             | low  | 0.59 | 86 | 0.134 | high   | low  | low  | 47199 |\n",
       "| Indiana              | low  | 0.79 | 87 | 0.247 | high   | low  | low  | 48060 |\n",
       "| Montana              | low  | 0.34 | 91 | 0.495 | high   | low  | low  | 51102 |\n",
       "| South Dakota         | low  | 0.51 | 90 |    NA | high   | low  | low  | 53053 |\n",
       "| Idaho                | low  | 0.70 | 88 | 0.124 | high   | low  | low  | 53438 |\n",
       "| Kansas               | low  | 0.64 | 90 | 0.105 | high   | low  | low  | 53444 |\n",
       "| Wyoming              | high | 0.31 | 92 |    NA | high   | low  | low  | 55690 |\n",
       "| Missouri             | high | 0.78 | NA | 0.185 | high   | high | low  | 56630 |\n",
       "| Nebraska             | high | 0.60 | NA | 0.159 | high   | low  | low  | 56870 |\n",
       "| North Dakota         | high | 0.50 | NA |    NA | high   | low  | low  | 60730 |\n",
       "\n"
      ],
      "text/plain": [
       "   state                median_house_inc share_pop_metro hs hate_crimes\n",
       "1  New Mexico           low              0.69            83 0.295      \n",
       "2  Maine                low              0.54            90 0.616      \n",
       "3  New York             low              0.94            85 0.351      \n",
       "4  Illinois             low              0.90            86 0.195      \n",
       "5  Delaware             high             0.90            87 0.323      \n",
       "6  Rhode Island         high             1.00            85 0.095      \n",
       "7  Oregon               high             0.87            89 0.833      \n",
       "8  Washington           high             0.86            90 0.677      \n",
       "9  California           high             0.97            81 0.256      \n",
       "10 Vermont              high             0.35            91 0.324      \n",
       "11 Colorado             high             0.80            89 0.391      \n",
       "12 Massachusetts        high             0.97            89 0.631      \n",
       "13 New Jersey           high             1.00            87 0.078      \n",
       "14 Virginia             high             0.89            87 0.363      \n",
       "15 Minnesota            high             0.75            92 0.627      \n",
       "16 District of Columbia high             1.00            87 1.522      \n",
       "17 Connecticut          high             0.94            89 0.335      \n",
       "18 Hawaii               high             0.76            90    NA      \n",
       "19 Maryland             high             0.97            89 0.370      \n",
       "20 South Carolina       low              0.79            84 0.210      \n",
       "21 Florida              low              0.96            85 0.188      \n",
       "22 North Carolina       low              0.76            84 0.244      \n",
       "23 Arizona              low              0.90            84 0.225      \n",
       "24 Georgia              low              0.82            84 0.120      \n",
       "25 Ohio                 low              0.75            88 0.191      \n",
       "26 Nevada               low              0.87            84 0.142      \n",
       "27 Michigan             low              0.87            88 0.404      \n",
       "28 Texas                low              0.92            80 0.214      \n",
       "29 Pennsylvania         high             0.87            88 0.285      \n",
       "30 Iowa                 high             0.60            91 0.454      \n",
       "31 Wisconsin            high             0.69            90 0.226      \n",
       "32 Utah                 high             0.82            90 0.137      \n",
       "33 Alaska               high             0.63            91 0.144      \n",
       "34 New Hampshire        high             0.63            91 0.152      \n",
       "35 Mississippi          low              0.45            80 0.067      \n",
       "36 West Virginia        low              0.55            83 0.329      \n",
       "37 Alabama              low              0.64            82 0.126      \n",
       "38 Louisiana            low              0.81            82 0.110      \n",
       "39 Kentucky             low              0.56            82 0.324      \n",
       "40 Tennessee            low              0.82            83 0.200      \n",
       "41 Arkansas             low              0.69            82 0.069      \n",
       "42 Oklahoma             low              0.59            86 0.134      \n",
       "43 Indiana              low              0.79            87 0.247      \n",
       "44 Montana              low              0.34            91 0.495      \n",
       "45 South Dakota         low              0.51            90    NA      \n",
       "46 Idaho                low              0.70            88 0.124      \n",
       "47 Kansas               low              0.64            90 0.105      \n",
       "48 Wyoming              high             0.31            92    NA      \n",
       "49 Missouri             high             0.78            NA 0.185      \n",
       "50 Nebraska             high             0.60            NA 0.159      \n",
       "51 North Dakota         high             0.50            NA    NA      \n",
       "   trump_support unemployment urbanization income\n",
       "1  low           high         low          46686 \n",
       "2  low           low          low          51710 \n",
       "3  low           low          high         54310 \n",
       "4  low           high         high         54916 \n",
       "5  low           low          high         57522 \n",
       "6  low           high         high         58633 \n",
       "7  low           high         high         58875 \n",
       "8  low           high         high         59068 \n",
       "9  low           high         high         60487 \n",
       "10 low           low          low          60708 \n",
       "11 low           low          high         60940 \n",
       "12 low           low          high         63151 \n",
       "13 low           high         high         65243 \n",
       "14 low           low          high         66155 \n",
       "15 low           low          low          67244 \n",
       "16 low           high         high         68277 \n",
       "17 low           high         high         70161 \n",
       "18 low           low          low          71223 \n",
       "19 low           low          high         76165 \n",
       "20 medium        high         low          44929 \n",
       "21 medium        high         high         46140 \n",
       "22 medium        high         low          46784 \n",
       "23 medium        high         high         49254 \n",
       "24 medium        high         high         49555 \n",
       "25 medium        low          low          49644 \n",
       "26 medium        high         high         49875 \n",
       "27 medium        low          high         52005 \n",
       "28 medium        low          high         53875 \n",
       "29 medium        high         high         55173 \n",
       "30 medium        low          low          57810 \n",
       "31 medium        low          low          58080 \n",
       "32 medium        low          high         63383 \n",
       "33 medium        high         low          67629 \n",
       "34 medium        low          low          73397 \n",
       "35 high          high         low          35521 \n",
       "36 high          high         low          39552 \n",
       "37 high          high         low          42278 \n",
       "38 high          high         high         42406 \n",
       "39 high          low          low          42786 \n",
       "40 high          high         high         43716 \n",
       "41 high          high         low          44922 \n",
       "42 high          low          low          47199 \n",
       "43 high          low          low          48060 \n",
       "44 high          low          low          51102 \n",
       "45 high          low          low          53053 \n",
       "46 high          low          low          53438 \n",
       "47 high          low          low          53444 \n",
       "48 high          low          low          55690 \n",
       "49 high          high         low          56630 \n",
       "50 high          low          low          56870 \n",
       "51 high          low          low          60730 "
      ]
     },
     "metadata": {},
     "output_type": "display_data"
    }
   ],
   "source": [
    "hate_crimes <- read_csv(\"http://bit.ly/2ItxYg3\")\n",
    "\n",
    "hate_crimes"
   ]
  },
  {
   "cell_type": "markdown",
   "id": "f4806491-e256-4823-aa63-612157c25966",
   "metadata": {},
   "source": [
    "Next, let’s add the high-school degree variable into the mix by creating a scatterplot showing:\n",
    "\n",
    "- Income on the y-axis (this is the `income` variable)\n",
    "- Percent of adults 25 or older with a high school degree on the x-axis (this is the `hs` variable)\n",
    "- The points colored by level of urbanization in a region (this is the variable `urbanization`)\n",
    "\n",
    "\n",
    "**In addition, add a line of best fit (regression line) for each level of the variable urbanization (one for “low”, one for “high”).**\n",
    "\n",
    "*Add the regression lines to the plot using the `geom_parallel_slopes` function from the `moderndive` package. This function will draw the regression lines based on fitting a regression model with parallel slopes (i.e., with no interaction between `hs` and `urbanization`).*"
   ]
  },
  {
   "cell_type": "code",
   "execution_count": 8,
   "id": "0df52489-dc41-4d74-ba64-a93f1d5c7ae1",
   "metadata": {},
   "outputs": [
    {
     "name": "stderr",
     "output_type": "stream",
     "text": [
      "Warning message:\n",
      "“\u001b[1m\u001b[22mRemoved 3 rows containing missing values (`geom_point()`).”\n"
     ]
    },
    {
     "data": {
      "image/png": "[encoded data removed]",
      "text/plain": [
       "plot without title"
      ]
     },
     "metadata": {
      "image/png": {
       "height": 500,
       "width": 625
      }
     },
     "output_type": "display_data"
    }
   ],
   "source": [
    "ggplot(data = hate_crimes, mapping = aes(x = hs, y = income, color = urbanization)) +\n",
    "  geom_point()"
   ]
  },
  {
   "cell_type": "markdown",
   "id": "6e532f1d-fa73-402b-96e0-f104a4c02791",
   "metadata": {},
   "source": [
    "❓Which regression line (high urbanization or low urbanization) appears to have the larger intercept?\n",
    "\n",
    "**Answer:**"
   ]
  },
  {
   "cell_type": "code",
   "execution_count": null,
   "id": "61301467-8beb-4ae7-9019-7965ba70ff24",
   "metadata": {},
   "outputs": [],
   "source": [
    "\n",
    "\n"
   ]
  },
  {
   "cell_type": "markdown",
   "id": "e8c51941-740b-4bba-975f-12083a90dda0",
   "metadata": {},
   "source": [
    "Now let’s create a second scatterplot using the same variables, but this time draw the regression lines using `geom_smooth(method = \"lm\")`, which will allow for separate, non-parallel slopes for each urbanization group. \n",
    "\n",
    "**Code you your scatter plot in the cell below.**"
   ]
  },
  {
   "cell_type": "code",
   "execution_count": null,
   "id": "fbdf3299-5151-4963-addb-6089506a9b1d",
   "metadata": {},
   "outputs": [],
   "source": [
    "\n",
    "\n"
   ]
  },
  {
   "cell_type": "markdown",
   "id": "1a8b4ef0-c250-4f50-8354-75075608b95c",
   "metadata": {},
   "source": [
    "❓Based on visually comparing the two models shown above, do you think it would be best to run a “parallel slopes” model (i.e. a model that estimates one shared slope for the two levels of urbanization), or a more complex “interaction model” (i.e. a model that estimates a separate slope for the two levels of urbanization)?\n",
    "\n",
    "**Answer:**"
   ]
  },
  {
   "cell_type": "code",
   "execution_count": null,
   "id": "39f4b05e-c7cc-4486-916c-1ddda83e34ac",
   "metadata": {},
   "outputs": [],
   "source": [
    "\n",
    "\n"
   ]
  },
  {
   "cell_type": "markdown",
   "id": "58b774c5-d4d1-4473-be77-4a1271fa4ca2",
   "metadata": {},
   "source": [
    "Fit the following two regression models that examine the relationship between household `income` (as response variable), and high-school education (`hs`) and `urbanization` as explanatory variables:\n",
    "\n",
    "1. A parallel slopes model (i.e., no interaction between `hs` and `urbanization`). ❗️Save the data recipe and model under the variables `ps_rec` and `ps_mod`, respectively. \n",
    "1. A non-parallel slopes model (i.e., allow `hs` and `urbanization` to interact in your model). ❗️Save the data recipe and model under the variable: `nps_rec` and `nps_mod`, respectively.\n",
    "\n",
    "**Code you your models in the cell below.**"
   ]
  },
  {
   "cell_type": "code",
   "execution_count": null,
   "id": "30523b47-a9af-4462-9c47-8bab30e76cc6",
   "metadata": {},
   "outputs": [],
   "source": [
    "# parallel slopes model\n",
    "\n",
    "ps_rec = recipe(income ~ hs + urbanization, data = hate_crimes) |> \n",
    "    step_naomit(everything()) |>   # remove missing values\n",
    "    step_dummy(urbanization) |>    # dummy encode the urbanization variable\n",
    "    prep()                         # run the recipe on the training data provided\n",
    "\n",
    "mod = linear_reg() |> set_engine('lm')\n",
    "\n",
    "ps_mod = mod |> fit(income ~ ., juice(ps_rec))\n",
    "\n",
    "ps_mod"
   ]
  },
  {
   "cell_type": "code",
   "execution_count": null,
   "id": "5f00c972-f677-4315-8ef8-a85c6e18be95",
   "metadata": {},
   "outputs": [],
   "source": [
    "# non-parallel slopes model\n",
    "\n",
    "# ❗️ you can use most of the code above, just add step_interact(~ starts_with(\"urbanization\"):hs) to the recipe and\n",
    "#    switch the variable names...\n",
    "\n",
    "\n",
    "\n"
   ]
  },
  {
   "cell_type": "markdown",
   "id": "868f615c-c5b3-4246-8460-1cd85c06c43a",
   "metadata": {},
   "source": [
    "The following code creates a table of your model predictions over the training data. Calculate the [coefficient of determination](https://en.wikipedia.org/wiki/Coefficient_of_determination) (R<sup>2</sup>) for each model:\n",
    "\n",
    "```r\n",
    "rbind(\n",
    "    augment(ps_mod, juice(ps_rec)) |> select(income, .pred, .resid) |> mutate(model = \"parallel_slopes\"),\n",
    "    augment(nps_mod, juice(nps_rec)) |> select(income, .pred, .resid) |> mutate(model = \"interaction\")\n",
    ")\n",
    "```\n",
    "\n",
    "1. Group rows by the `model` variable (use the `group_by` function).\n",
    "1. Calculate the variance of income over the variance of your predictions for each model using the \"grouped\" data from the step above (use `summarize(r_squared = var(.pred) / var(income))`)."
   ]
  },
  {
   "cell_type": "code",
   "execution_count": null,
   "id": "962ac82c-48a1-424e-90a7-f6fdc71d52fb",
   "metadata": {},
   "outputs": [],
   "source": [
    "\n",
    "\n"
   ]
  },
  {
   "cell_type": "markdown",
   "id": "840b7b72-84b9-4577-ac88-13a82f90f808",
   "metadata": {},
   "source": [
    "🎶 Note: you can also use the `glance` function with a model as input to find the coefficient of determination."
   ]
  },
  {
   "cell_type": "code",
   "execution_count": null,
   "id": "68c3db16-e926-46d6-8647-4277560d2e25",
   "metadata": {},
   "outputs": [],
   "source": [
    "glance(ps_mod)"
   ]
  },
  {
   "cell_type": "markdown",
   "id": "ce3fcc58-dfcc-4c86-967a-c8e2a9f071f8",
   "metadata": {},
   "source": [
    "❓Compare the adjusted proportion of variance account for each model. Based on this comparison, which model do you prefer? Why? \n",
    "\n",
    "**Answer:**"
   ]
  },
  {
   "cell_type": "code",
   "execution_count": null,
   "id": "a249f3ee-3f67-4cfe-858c-ae5d3134035f",
   "metadata": {},
   "outputs": [],
   "source": [
    "\n",
    "\n"
   ]
  },
  {
   "cell_type": "markdown",
   "id": "3b8b4c84-898f-4914-b06b-2eeb99f0d234",
   "metadata": {},
   "source": [
    "❓Using your preferred model, based on your regression model parameters (and the data visualizations), is `income` greater in states that have lower or higher levels of `urbanization`? By how much?\n",
    "\n",
    "**Hint:** use the `tidy` function with your model as input to access the parameters in a nice table.\n",
    "\n",
    "**Answer:**"
   ]
  },
  {
   "cell_type": "code",
   "execution_count": null,
   "id": "c094d0a2-2030-45a8-9643-9c6eac642fb3",
   "metadata": {},
   "outputs": [],
   "source": [
    "\n",
    "\n"
   ]
  },
  {
   "cell_type": "markdown",
   "id": "bf4c7cba-28b1-41e4-800b-275d0895ceff",
   "metadata": {},
   "source": [
    "❓For every one percentage point increase of high-school educated adults in a state (`hs` variable), what is the associated average increase in `income`?\n",
    "\n",
    "**Answer:**"
   ]
  },
  {
   "cell_type": "code",
   "execution_count": null,
   "id": "1f5e5a71-930e-477d-98b8-a3f5e47df91c",
   "metadata": {},
   "outputs": [],
   "source": [
    "\n",
    "\n"
   ]
  }
 ],
 "metadata": {
  "kernelspec": {
   "display_name": "data730:R",
   "language": "R",
   "name": "conda-env-data730-r"
  },
  "language_info": {
   "codemirror_mode": "r",
   "file_extension": ".r",
   "mimetype": "text/x-r-source",
   "name": "R",
   "pygments_lexer": "r",
   "version": "4.3.2"
  }
 },
 "nbformat": 4,
 "nbformat_minor": 5
}
